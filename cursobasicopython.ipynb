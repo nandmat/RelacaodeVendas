{
  "cells": [
    {
      "cell_type": "code",
      "source": [
        ""
      ],
      "metadata": {
        "id": "QPbl6cQO3ai_"
      },
      "execution_count": null,
      "outputs": []
    },
    {
      "cell_type": "markdown",
      "metadata": {
        "id": "7VXsqP1yL_Dq"
      },
      "source": [
        ""
      ]
    },
    {
      "cell_type": "code",
      "execution_count": null,
      "metadata": {
        "id": "RZZz1Q389uF_"
      },
      "outputs": [],
      "source": [
        "# Lógica de Programação\n",
        "\n",
        "#  Passo 0 - Entender o desafio que você quer resolver\n",
        "\n",
        "# Passo 1 - Percorrer todos os arquivos da pasta base de dados(pasta vendas)\n",
        "import os\n",
        "#-biblioteca para as instruções os.\n",
        "import pandas as pd\n",
        "# as pd: pd é a forma de abreviar o nome pandas.\n",
        "#use pd ao invés de escrever pandas\n",
        "#pandas é usado para trabalhar com bases de dados.\n",
        "\n",
        "\n",
        "lista_arquivo = os.listdir(\"/content/drive/MyDrive/cursopython/vendas\")\n",
        "#- os.listdir() serve para ler todos os arquivos em uma pasta.\n",
        "#-informar o endereço da pasta em aspas string.\n",
        "#display(lista_arquivo)\n",
        "\n",
        "\n",
        "\n"
      ]
    },
    {
      "cell_type": "code",
      "execution_count": null,
      "metadata": {
        "id": "wGXhzL0iMcU8"
      },
      "outputs": [],
      "source": [
        "tabela_total = pd.DataFrame()\n",
        "#pd.DataFrame serve para criar tabelas no Python\n",
        "# Passo 2 - Importar as bases de dados de vendas\n",
        "for arquivo in lista_arquivo:\n",
        "  #se tem \"vendas\" no nome do arquivo, então\n",
        "  if \"Vendas\" in arquivo:\n",
        "    #importar arquivo\n",
        "    #lower tranforma todo o texto em letra minúscula\n",
        "    tabela = pd.read_csv(f\"/content/drive/MyDrive/cursopython/vendas/{arquivo}\")\n",
        "        #pd.read_ serve para ler arquivos.\n",
        "    #após o _ informe o formato do arquivo.\n",
        "    tabela_total = tabela_total.append(tabela)\n",
        "    #.append está adicionando o valor da variavel tabela na variavel tabela_total\n",
        "    #.append adiciona dados na planilha\n",
        "\n",
        "\n",
        "# Passo 3 - Tratar/compilar as bases de dados\n",
        "display(tabela_total)"
      ]
    },
    {
      "cell_type": "code",
      "execution_count": null,
      "metadata": {
        "colab": {
          "background_save": true
        },
        "id": "gewtJn5atsG8"
      },
      "outputs": [],
      "source": [
        "# Passo 4 - Calcular o produto mais vendido (em quantidade)\n",
        "tabela_produtos = tabela_total.groupby(\"Produto\").sum()\n",
        "#.groupby serve para agrupar colunas\n",
        "#.sum está somando as outras colunas\n",
        "tabela_produtos = tabela_produtos[[\"Quantidade Vendida\"]]\n",
        "#Filtrar as colunas que desejo.\n",
        "# colocar dois [[]] para duas ou mais colunas.\n",
        "display(tabela_produtos)"
      ]
    },
    {
      "cell_type": "code",
      "execution_count": null,
      "metadata": {
        "id": "iJmNjDUEtsW1"
      },
      "outputs": [],
      "source": [
        "# Passo 5 - Calcular o produto que mais faturou (em faturamento)"
      ]
    },
    {
      "cell_type": "code",
      "execution_count": null,
      "metadata": {
        "id": "RPO8CdTltsk0"
      },
      "outputs": [],
      "source": [
        "# Passo 6 - Calcular a loja/cidade que mais vendeu (em faturamento) - criar um gráfico/dashboard\n"
      ]
    },
    {
      "cell_type": "code",
      "execution_count": null,
      "metadata": {
        "colab": {
          "base_uri": "https://localhost:8080/"
        },
        "id": "mOuqB5rO-CAK",
        "outputId": "ef6e7d55-440e-4df3-ea18-9209da832372"
      },
      "outputs": [
        {
          "name": "stdout",
          "output_type": "stream",
          "text": [
            "Drive already mounted at /content/drive; to attempt to forcibly remount, call drive.mount(\"/content/drive\", force_remount=True).\n"
          ]
        }
      ],
      "source": [
        "from google.colab import drive\n",
        "drive.mount('/content/drive')"
      ]
    }
  ],
  "metadata": {
    "colab": {
      "collapsed_sections": [],
      "name": "cursobasicopython.ipynb",
      "provenance": []
    },
    "kernelspec": {
      "display_name": "Python 3",
      "name": "python3"
    },
    "language_info": {
      "name": "python"
    }
  },
  "nbformat": 4,
  "nbformat_minor": 0
}